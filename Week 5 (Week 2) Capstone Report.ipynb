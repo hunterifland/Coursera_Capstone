{
 "cells": [
  {
   "cell_type": "markdown",
   "metadata": {
    "collapsed": true
   },
   "source": [
    "# Where to go in the US to have pizza?"
   ]
  },
  {
   "cell_type": "markdown",
   "metadata": {},
   "source": [
    "## Introduction/Business Problem"
   ]
  },
  {
   "cell_type": "markdown",
   "metadata": {},
   "source": [
    "You are a tourist that wants to go to a place with a high density of pizza places in the USA. The problem we aim to solve is to analyze the pizza stores' locations in the major US cities and find the best city for our foodie tourism."
   ]
  },
  {
   "cell_type": "markdown",
   "metadata": {},
   "source": [
    "## Data Section"
   ]
  },
  {
   "cell_type": "markdown",
   "metadata": {},
   "source": [
    "I will use the FourSquare API to collect data about locations of pizza shops in 5 major US cities which are: New York City, New York, San Francisco, California, Jersey City, New Jersey, Boston, Massachusetts and Chicago, Illinois. These are one of the most populated US cities and will be most abundant in finding pizza shops in the USA."
   ]
  },
  {
   "cell_type": "markdown",
   "metadata": {},
   "source": [
    "## Methodology"
   ]
  },
  {
   "cell_type": "markdown",
   "metadata": {},
   "source": [
    "My main target here is to assess which city would have the highest pizza shop density. I used the Four Square API through the venues channel. I used the near query to get venues in the cities. Also, I use the CategoryID to set it to show only pizza shops. An example of my requests:\n",
    "\n",
    "https://api.foursquare.com/v2/venues/explore?&client_id=&client_secret=&v=20180605&NewYork,NY&limit=100&categoryId=4bf58dd8d48988d1ca941735\n",
    "\n",
    "That 4bf58dd8d48988d1ca941735 is the Id of the Pizza Place Category. Also, Foursquare limits us to maximum of 100 venues per query.\n",
    "\n",
    "Moreover, I repeated this request for the 5 studied cities and got their top 100 venues. I saved the name and coordinate data only from the result and plotted them on the map for visual inspection.\n",
    "\n",
    "Next, to get an indicator of the density of pizza shops, I calculated a center coordinate of the venues to get the mean longitude and latitude values. Then I calculated the mean of the Euclidean distance from each venue to the mean coordinates. That was my indicator; mean distance to the mean coordinate."
   ]
  },
  {
   "cell_type": "markdown",
   "metadata": {},
   "source": [
    "## Results"
   ]
  },
  {
   "cell_type": "markdown",
   "metadata": {},
   "source": [
    "For our initial visual inspection we see that each city has numerous pizza shops and often more than Foursquare would like to supply us. The following here are the pictures of the geoplots generated with folium:"
   ]
  },
  {
   "cell_type": "markdown",
   "metadata": {},
   "source": [
    "#### New York:"
   ]
  },
  {
   "cell_type": "markdown",
   "metadata": {},
   "source": [
    "![New York Geoplot](https://raw.githubusercontent.com/mmahrouss/The-Battle-of-Neighborhoods/master/docs/1570114968097.png)"
   ]
  },
  {
   "cell_type": "markdown",
   "metadata": {},
   "source": [
    "#### Chicago:"
   ]
  },
  {
   "cell_type": "markdown",
   "metadata": {},
   "source": [
    "![Chicago_geoplot](https://raw.githubusercontent.com/mmahrouss/The-Battle-of-Neighborhoods/master/docs/1570115035264.png)"
   ]
  },
  {
   "cell_type": "markdown",
   "metadata": {},
   "source": [
    "#### San Francisco:"
   ]
  },
  {
   "cell_type": "markdown",
   "metadata": {},
   "source": [
    "![San_Francisco_geoplot](https://raw.githubusercontent.com/mmahrouss/The-Battle-of-Neighborhoods/master/docs/1570115744107.png)"
   ]
  },
  {
   "cell_type": "markdown",
   "metadata": {},
   "source": [
    "#### Jersey City:"
   ]
  },
  {
   "cell_type": "markdown",
   "metadata": {},
   "source": [
    "![Jersey_City_geoplot](https://raw.githubusercontent.com/mmahrouss/The-Battle-of-Neighborhoods/master/docs/1570115780585.png)"
   ]
  },
  {
   "cell_type": "markdown",
   "metadata": {},
   "source": [
    "#### Boston:"
   ]
  },
  {
   "cell_type": "markdown",
   "metadata": {},
   "source": [
    "![Boston_geoplot](https://raw.githubusercontent.com/mmahrouss/The-Battle-of-Neighborhoods/master/docs/1570115810909.png)"
   ]
  },
  {
   "cell_type": "markdown",
   "metadata": {},
   "source": [
    "Upon first inspection we see that New York, Jersey City and San Francisco are the cities with the most dense population of pizza shops. In the next phase we calculate the mean coordinate and the mean distance to mean coordinate(MDMC). We represent the mean coordinate with a big green circle and distances with green lines."
   ]
  },
  {
   "cell_type": "markdown",
   "metadata": {},
   "source": [
    "#### New York:\n",
    "MDMC: 0.021556\n",
    "\n",
    "![New_York_geoplot](https://raw.githubusercontent.com/mmahrouss/The-Battle-of-Neighborhoods/master/docs/1570116007629.png)"
   ]
  },
  {
   "cell_type": "markdown",
   "metadata": {},
   "source": [
    "#### Chicago:\n",
    "MDMC: 0.052805\n",
    "    \n",
    "![Chicago_geoplot](https://raw.githubusercontent.com/mmahrouss/The-Battle-of-Neighborhoods/master/docs/1570116072129.png)"
   ]
  },
  {
   "cell_type": "markdown",
   "metadata": {},
   "source": [
    "#### San Francisco:\n",
    "MDMC: 0.028633\n",
    "    \n",
    "![San_Francisco_geoplot](https://raw.githubusercontent.com/mmahrouss/The-Battle-of-Neighborhoods/master/docs/1570116146328.png)"
   ]
  },
  {
   "cell_type": "markdown",
   "metadata": {},
   "source": [
    "#### Jersey City:\n",
    "MDMC: 0.029950\n",
    "    \n",
    "![Jersey_City_geoplot](https://raw.githubusercontent.com/mmahrouss/The-Battle-of-Neighborhoods/master/docs/1570116170991.png)"
   ]
  },
  {
   "cell_type": "markdown",
   "metadata": {},
   "source": [
    "#### Boston:\n",
    "MDMC: 0.035126\n",
    "    \n",
    "![Boston_geoplot](https://raw.githubusercontent.com/mmahrouss/The-Battle-of-Neighborhoods/master/docs/1570116196100.png)"
   ]
  },
  {
   "cell_type": "markdown",
   "metadata": {},
   "source": [
    "Therefore our results are :\n",
    "\n",
    "1. New York \n",
    "2. San Francisco \n",
    "3. Jersey City \n",
    "4. Boston \n",
    "5. Chicago "
   ]
  },
  {
   "cell_type": "markdown",
   "metadata": {},
   "source": [
    "## Discussion:"
   ]
  },
  {
   "cell_type": "markdown",
   "metadata": {},
   "source": [
    "One thing I noticed in the figure is that there is a far away pizza shop in Jersey City that is probably giving it a higher MDMC. So I cheched what if I removed it, it would not harm anyone to try 99 pizza places than 100 and New York is just at the other shore.\n",
    "\n",
    "The new MDMC was: 0.0219953, putting it one place up on the list replacing San Francisco.\n",
    "\n",
    "One consideration to do further work on is to move the location of the Foursquare API query until we get all the pizza places in each city and do the calculations again."
   ]
  },
  {
   "cell_type": "markdown",
   "metadata": {},
   "source": [
    "## Conclusion:"
   ]
  },
  {
   "cell_type": "markdown",
   "metadata": {},
   "source": [
    "Now there is no doubt that New York is the best place to go in the USA for pizza tourism. Also, if our tourist is done with all the New York pizza places he can cross to Jersey City and enjoy 99 more.\n",
    "\n",
    "Also, we would recommend that our tourist book a hotel close to the mean coordinate."
   ]
  }
 ],
 "metadata": {
  "kernelspec": {
   "display_name": "Python 3.6",
   "language": "python",
   "name": "python3"
  },
  "language_info": {
   "codemirror_mode": {
    "name": "ipython",
    "version": 3
   },
   "file_extension": ".py",
   "mimetype": "text/x-python",
   "name": "python",
   "nbconvert_exporter": "python",
   "pygments_lexer": "ipython3",
   "version": "3.6.9"
  }
 },
 "nbformat": 4,
 "nbformat_minor": 1
}
